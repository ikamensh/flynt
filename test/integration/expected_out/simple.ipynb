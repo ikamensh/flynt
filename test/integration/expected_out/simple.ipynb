{
 "cells": [
  {"cell_type": "markdown", "source": ["# Title"]},
  {"cell_type": "code", "source": ["print(f'{42} ')\n"]},
  {"cell_type": "code", "source": ["already = f'{42}'\n"]},
  {"cell_type": "code", "source": ["print('no change')\n"]},
  {"cell_type": "markdown", "source": ["End"]}
 ],
 "metadata": {"language_info": {"name": "python"}},
 "nbformat": 4,
 "nbformat_minor": 2
}
